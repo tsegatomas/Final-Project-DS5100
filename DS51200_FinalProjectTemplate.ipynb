{
 "cells": [
  {
   "cell_type": "markdown",
   "id": "45762487-d33f-486d-8e38-2cdea04e3528",
   "metadata": {},
   "source": [
    "# Final Project Report\n",
    "\n",
    "* Class: DS 5100\n",
    "* Student Name: Tomas Tsega\n",
    "* Student Net ID: hhn5nx@virginia.edu\n",
    "* This URL: https://github.com/tsegatomas/Final-Project-DS5100.git"
   ]
  },
  {
   "cell_type": "markdown",
   "id": "acf756c1-ecaa-41dc-b6ca-d566eb94560b",
   "metadata": {},
   "source": [
    "# Instructions\n",
    "\n",
    "Follow the instructions in the Final Project isntructions notebook and put evidence of your work in this notebook.\n",
    "\n",
    "Total points for each subsection under **Deliverables** and **Scenarios** are given in parentheses.\n",
    "\n",
    "Breakdowns of points within subsections are specified within subsection instructions as bulleted lists.\n",
    "\n",
    "This project is worth **50 points**."
   ]
  },
  {
   "cell_type": "markdown",
   "id": "89dc7a32-f682-4402-8c1e-b6ccdb3e0e39",
   "metadata": {},
   "source": [
    "# Deliverables"
   ]
  },
  {
   "cell_type": "markdown",
   "id": "d32cb273-9a40-4909-a7ce-51f6e4958d3c",
   "metadata": {},
   "source": [
    "## The Monte Carlo Module (10)\n",
    "\n",
    "- URL included, appropriately named (1).\n",
    "- Includes all three specified classes (3).\n",
    "- Includes at least all 12 specified methods (6; .5 each)."
   ]
  },
  {
   "cell_type": "markdown",
   "id": "f5f3b070-de9e-4de9-bfae-8974d184aa28",
   "metadata": {},
   "source": [
    "Put the URL to your GitHub repo here.\n",
    "\n",
    "Repo URL: https://github.com/tsegatomas/Final-Project-DS5100.git"
   ]
  },
  {
   "cell_type": "markdown",
   "id": "162370fb-3729-4c85-b040-8c25b2c966d2",
   "metadata": {},
   "source": [
    "Paste a copyy of your module here.\n",
    "\n",
    "NOTE: Paste as text, not as code. Use triple backticks to wrap your code blocks."
   ]
  },
  {
   "cell_type": "code",
   "execution_count": 7,
   "id": "a0743efc-a785-4b5c-a9e6-b65d4507a67f",
   "metadata": {},
   "outputs": [],
   "source": [
    "# A code block with your classes.\n",
    "\n",
    "      '''\n",
    "      import os\n",
    "import numpy as np\n",
    "import pandas as pd\n",
    "\n",
    "class Die:\n",
    "    \"\"\"\n",
    "    A class representing a die with N sides, each side having a unique symbol and weight.\n",
    "    \"\"\"\n",
    "    def __init__(self, faces):\n",
    "        if not isinstance(faces, np.ndarray):\n",
    "            raise TypeError(\"Faces must be a NumPy array.\")\n",
    "        if len(faces) != len(set(faces)):\n",
    "            raise ValueError(\"Faces must be distinct values.\")\n",
    "        \n",
    "        self._faces = faces\n",
    "        self._weights = np.ones(len(faces))  # Default weight of 1.0 for each face\n",
    "        self._die_df = pd.DataFrame({\n",
    "            'face': faces,\n",
    "            'weight': self._weights\n",
    "        }).set_index('face')\n",
    "\n",
    "    def change_weight(self, face, new_weight):\n",
    "        if face not in self._die_df.index:\n",
    "            raise IndexError(\"Face value not found in die.\")\n",
    "        if not isinstance(new_weight, (int, float)) or new_weight < 0:\n",
    "            raise TypeError(\"Weight must be a positive numeric value.\")\n",
    "        \n",
    "        self._die_df.at[face, 'weight'] = float(new_weight)\n",
    "\n",
    "    def roll(self, rolls=1):\n",
    "        return self._die_df.sample(n=rolls, weights='weight', replace=True).index.tolist()\n",
    "    \n",
    "    def show(self):\n",
    "        return self._die_df.copy()\n",
    "\n",
    "\n",
    "class Game:\n",
    "    \"\"\"\n",
    "    A class representing a game consisting of rolling one or more dice.\n",
    "    \"\"\"\n",
    "    def __init__(self, dice):\n",
    "        if not isinstance(dice, list) or not all(isinstance(die, Die) for die in dice):\n",
    "            raise TypeError(\"All elements must be Die objects.\")\n",
    "        self.dice = dice\n",
    "        self._results = None\n",
    "\n",
    "    def play(self, rolls=1):\n",
    "        results = {f\"Die_{i}\": die.roll(rolls) for i, die in enumerate(self.dice)}\n",
    "        self._results = pd.DataFrame(results)\n",
    "        self._results.index.name = 'Roll'\n",
    "\n",
    "    def show(self, form='wide'):\n",
    "        if self._results is None:\n",
    "            raise ValueError(\"No results available. Please play the game first.\")\n",
    "        if form == 'wide':\n",
    "            return self._results\n",
    "        elif form == 'narrow':\n",
    "            return self._results.stack().to_frame('Outcome')\n",
    "        else:\n",
    "            raise ValueError(\"Invalid form. Use 'wide' or 'narrow'.\")\n",
    "\n",
    "\n",
    "class Analyzer:\n",
    "    \"\"\"\n",
    "    A class for analyzing the results of a game of dice.\n",
    "    \"\"\"\n",
    "    def __init__(self, game):\n",
    "        if not isinstance(game, Game):\n",
    "            raise TypeError(\"Input must be a Game object.\")\n",
    "        self.game = game\n",
    "        self.results = game.show(form='wide')\n",
    "\n",
    "    def jackpot(self):\n",
    "        return (self.results.nunique(axis=1) == 1).sum()\n",
    "\n",
    "    def face_counts_per_roll(self):\n",
    "        return self.results.apply(pd.Series.value_counts, axis=1).fillna(0)\n",
    "\n",
    "    def combo_count(self):\n",
    "        sorted_rolls = self.results.apply(lambda x: tuple(sorted(x)), axis=1)\n",
    "        return sorted_rolls.value_counts().to_frame('Count')\n",
    "\n",
    "    def permutation_count(self):\n",
    "        perm_rolls = self.results.apply(lambda x: tuple(x), axis=1)\n",
    "        return perm_rolls.value_counts().to_frame('Count')\n",
    "\n",
    "    def scrabble_word_analysis(self, word_list):\n",
    "        valid_words = []\n",
    "        for roll in self.results.apply(lambda x: ''.join(sorted(x)), axis=1):\n",
    "            if roll in word_list:\n",
    "                valid_words.append(True)\n",
    "            else:\n",
    "                valid_words.append(False)\n",
    "        \n",
    "        return pd.DataFrame({'Roll': self.results.index, 'Is_Valid_Word': valid_words})\n",
    "\n",
    "    def letter_frequency_analysis(self, letter_frequencies):\n",
    "        rolled_letter_counts = self.results.apply(pd.Series.value_counts).sum().fillna(0)\n",
    "        comparison = pd.DataFrame({'Rolled_Count': rolled_letter_counts})\n",
    "        comparison['Expected_Frequency'] = comparison.index.map(letter_frequencies)\n",
    "        comparison['Expected_Frequency'] = comparison['Expected_Frequency'].fillna(0)\n",
    "        return comparison\n",
    "\n",
    "\n",
    "# Adjust file paths for scrabble words and English letter frequencies\n",
    "current_dir = os.path.dirname(__file__)\n",
    "scrabble_words_path = os.path.join(current_dir, 'scrabble_words.txt')\n",
    "english_letters_path = os.path.join(current_dir, 'english_letters.txt')\n",
    "\n",
    "# Load scrabble words\n",
    "try:\n",
    "    with open(scrabble_words_path) as f:\n",
    "        scrabble_words = [line.strip() for line in f]\n",
    "except FileNotFoundError:\n",
    "    raise FileNotFoundError(f\"Could not find scrabble_words.txt at {scrabble_words_path}\")\n",
    "\n",
    "# Load English letter frequencies\n",
    "try:\n",
    "    letter_frequencies = {}\n",
    "    with open(english_letters_path) as f:\n",
    "        for line in f:\n",
    "            letter, frequency = line.strip().split()\n",
    "            letter_frequencies[letter] = float(frequency)\n",
    "except FileNotFoundError:\n",
    "    raise FileNotFoundError(f\"Could not find english_letters.txt at {english_letters_path}\")\n",
    "    '''"
   ]
  },
  {
   "cell_type": "markdown",
   "id": "6377727a-8f0a-491e-9f1c-d9dc225edd35",
   "metadata": {},
   "source": [
    "## Unitest Module (2)\n",
    "\n",
    "Paste a copy of your test module below.\n",
    "\n",
    "NOTE: Paste as text, not as code. Use triple backticks to wrap your code blocks.\n",
    "\n",
    "- All methods have at least one test method (1).\n",
    "- Each method employs one of Unittest's Assert methods (1)."
   ]
  },
  {
   "cell_type": "code",
   "execution_count": 2,
   "id": "14b878d8-258b-4cf2-ad88-b8ee90d43977",
   "metadata": {},
   "outputs": [],
   "source": [
    "# A code block with your test code.\n",
    "'''\n",
    "# In[1]:\n",
    "\n",
    "\n",
    "\n",
    "\n",
    "\n",
    "# In[2]:\n",
    "\n",
    "\n",
    "import unittest\n",
    "import numpy as np\n",
    "import pandas as pd\n",
    "from montecarlo_simulator.montecarlo import Die, Game, Analyzer\n",
    "\n",
    "class TestDie(unittest.TestCase):\n",
    "    def setUp(self):\n",
    "        self.faces = np.array([1, 2, 3, 4, 5, 6])\n",
    "        self.die = Die(self.faces)\n",
    "\n",
    "    def test_initialization(self):\n",
    "        with self.assertRaises(TypeError):\n",
    "            Die([1, 2, 3])  # Not a NumPy array\n",
    "        with self.assertRaises(ValueError):\n",
    "            Die(np.array([1, 1, 2]))  # Non-unique faces\n",
    "\n",
    "    def test_change_weight(self):\n",
    "        self.die.change_weight(1, 3.0)\n",
    "        self.assertEqual(self.die.show().at[1, 'weight'], 3.0)\n",
    "        with self.assertRaises(IndexError):\n",
    "            self.die.change_weight(7, 2.0)  # Face does not exist\n",
    "        with self.assertRaises(TypeError):\n",
    "            self.die.change_weight(1, 'high')  # Invalid weight type\n",
    "\n",
    "    def test_roll(self):\n",
    "        outcomes = self.die.roll(10)\n",
    "        self.assertEqual(len(outcomes), 10)\n",
    "        self.assertTrue(all(face in self.faces for face in outcomes))\n",
    "\n",
    "    def test_show(self):\n",
    "        state = self.die.show()\n",
    "        self.assertEqual(state.shape, (6, 1))  # 6 faces, 1 weight column\n",
    "\n",
    "\n",
    "class TestGame(unittest.TestCase):\n",
    "    def setUp(self):\n",
    "        self.die1 = Die(np.array(['A', 'B', 'C', 'D', 'E', 'F']))\n",
    "        self.die2 = Die(np.array(['A', 'B', 'C', 'D', 'E', 'F']))\n",
    "        self.game = Game([self.die1, self.die2])\n",
    "\n",
    "    def test_initialization(self):\n",
    "        with self.assertRaises(TypeError):\n",
    "            Game(['not_a_die'])  # Invalid list of Die objects\n",
    "\n",
    "    def test_play(self):\n",
    "        self.game.play(5)\n",
    "        results = self.game.show()\n",
    "        self.assertEqual(results.shape, (5, 2))  # 5 rolls, 2 dice\n",
    "\n",
    "    def test_show(self):\n",
    "        self.game.play(5)\n",
    "        wide_results = self.game.show('wide')\n",
    "        self.assertEqual(wide_results.shape, (5, 2))\n",
    "        narrow_results = self.game.show('narrow')\n",
    "        self.assertEqual(narrow_results.shape, (10, 1))  # 5 rolls * 2 dice\n",
    "        with self.assertRaises(ValueError):\n",
    "            self.game.show('invalid')  # Invalid form argument\n",
    "\n",
    "\n",
    "class TestAnalyzer(unittest.TestCase):\n",
    "    def setUp(self):\n",
    "        die1 = Die(np.array(['A', 'B', 'C']))\n",
    "        die2 = Die(np.array(['A', 'B', 'C']))\n",
    "        self.game = Game([die1, die2])\n",
    "        self.game.play(5)\n",
    "        self.analyzer = Analyzer(self.game)\n",
    "\n",
    "    def test_initialization(self):\n",
    "        with self.assertRaises(TypeError):\n",
    "            Analyzer('not_a_game')  # Not a Game object\n",
    "\n",
    "    def test_jackpot(self):\n",
    "        jackpots = self.analyzer.jackpot()\n",
    "        self.assertTrue(isinstance(jackpots, (int, np.integer)), f\"Expected jackpots to be an int, but got {type(jackpots)}\")\n",
    "        self.assertGreaterEqual(jackpots, 0)\n",
    "\n",
    "    def test_face_counts_per_roll(self):\n",
    "        face_counts = self.analyzer.face_counts_per_roll()\n",
    "        self.assertEqual(face_counts.shape[0], 5)  # 5 rolls\n",
    "        self.assertTrue(all(col in ['A', 'B', 'C'] for col in face_counts.columns))\n",
    "\n",
    "    def test_combo_count(self):\n",
    "        combo_counts = self.analyzer.combo_count()\n",
    "        self.assertIsInstance(combo_counts, pd.DataFrame)\n",
    "\n",
    "    def test_permutation_count(self):\n",
    "        permutation_counts = self.analyzer.permutation_count()\n",
    "        self.assertIsInstance(permutation_counts, pd.DataFrame)\n",
    "\n",
    "    def test_scrabble_word_analysis(self):\n",
    "        scrabble_words = ['AA', 'BB', 'CC']\n",
    "        analysis = self.analyzer.scrabble_word_analysis(scrabble_words)\n",
    "        self.assertEqual(analysis.shape[0], 5)  # 5 rolls\n",
    "        self.assertIn('Is_Valid_Word', analysis.columns)\n",
    "\n",
    "    def test_letter_frequency_analysis(self):\n",
    "        letter_frequencies = {'A': 8, 'B': 3, 'C': 5}\n",
    "        frequency_analysis = self.analyzer.letter_frequency_analysis(letter_frequencies)\n",
    "        self.assertTrue(all(col in ['Rolled_Count', 'Expected_Frequency'] for col in frequency_analysis.columns))\n",
    "\n",
    "\n",
    "if __name__ == '__main__':\n",
    "    unittest.main(argv=['first-arg-is-ignored'], exit=False)\n",
    "\n",
    "'''"
   ]
  },
  {
   "cell_type": "markdown",
   "id": "3e058d03-29bc-408f-b36d-0605b4f4b8c0",
   "metadata": {
    "tags": []
   },
   "source": [
    "## Unittest Results (3)\n",
    "\n",
    "Put a copy of the results of running your tests from the command line here.\n",
    "\n",
    "Again, paste as text using triple backticks.\n",
    "\n",
    "- All 12 specified methods return OK (3; .25 each)."
   ]
  },
  {
   "cell_type": "raw",
   "id": "54691fd0-836c-43c7-adc9-4a09d8aa9ab2",
   "metadata": {
    "tags": []
   },
   "source": [
    "# A text block with the output of a successful test.\n",
    "\n",
    "bash-4.4$ python -m unittest discover tests\n",
    "..............\n",
    "----------------------------------------------------------------------\n",
    "Ran 14 tests in 0.030s\n",
    "\n",
    "OK\n",
    "bash-4.4$\n"
   ]
  },
  {
   "cell_type": "markdown",
   "id": "d9ffe8c5-eb2f-4ad1-af76-a46550e4c7ac",
   "metadata": {},
   "source": [
    "## Import (1)\n",
    "\n",
    "Import your module here. This import should refer to the code in your package directory.\n",
    "\n",
    "- Module successuflly imported (1)."
   ]
  },
  {
   "cell_type": "code",
   "execution_count": 6,
   "id": "a05dffb3-e6d6-4f78-9df4-5abd0cf74ca9",
   "metadata": {
    "tags": []
   },
   "outputs": [
    {
     "name": "stdout",
     "output_type": "stream",
     "text": [
      "Die successfully created!\n",
      "Game successfully created and played!\n",
      "Analyzer successfully created!\n"
     ]
    }
   ],
   "source": [
    "# e.g. import montecarlo.montecarlo \n",
    "import numpy as np\n",
    "from montecarlo_simulator.montecarlo import Die, Game, Analyzer\n",
    "\n",
    "try:\n",
    "    die = Die(np.array(['A', 'B', 'C']))\n",
    "    print(\"Die successfully created!\")\n",
    "except Exception as e:\n",
    "    print(f\"Die creation failed: {e}\")\n",
    "\n",
    "try:\n",
    "    game = Game([die, die])\n",
    "    game.play(5)  # Play the game with 5 rolls\n",
    "    print(\"Game successfully created and played!\")\n",
    "except Exception as e:\n",
    "    print(f\"Game creation or play failed: {e}\")\n",
    "\n",
    "try:\n",
    "    analyzer = Analyzer(game)\n",
    "    print(\"Analyzer successfully created!\")\n",
    "except Exception as e:\n",
    "    print(f\"Analyzer creation failed: {e}\")\n",
    "\n",
    "\n",
    "\n"
   ]
  },
  {
   "cell_type": "markdown",
   "id": "f30c4842-65b1-4556-98b6-3fe1a07e1371",
   "metadata": {},
   "source": [
    "## Help Docs (4)\n",
    "\n",
    "Show your docstring documentation by applying `help()` to your imported module.\n",
    "\n",
    "- All methods have a docstring (3; .25 each).\n",
    "- All classes have a docstring (1; .33 each)."
   ]
  },
  {
   "cell_type": "code",
   "execution_count": 4,
   "id": "bf4fbf1f-9885-471c-a0a6-e9ca90e160de",
   "metadata": {
    "tags": []
   },
   "outputs": [],
   "source": [
    "# help(montecarlo)\n",
    "'''\n",
    "Help for Die class:\n",
    "Help on class Die in module montecarlo_simulator.montecarlo:\n",
    "\n",
    "class Die(builtins.object)\n",
    " |  Die(faces)\n",
    " |  \n",
    " |  A class representing a die with N sides, each side having a unique symbol and weight.\n",
    " |  \n",
    " |  Attributes:\n",
    " |      _faces (np.ndarray): An array containing the faces of the die.\n",
    " |      _weights (np.ndarray): An array containing the weights associated with each face.\n",
    " |      _die_df (pd.DataFrame): A private DataFrame storing faces and weights.\n",
    " |  \n",
    " |  Methods defined here:\n",
    " |  \n",
    " |  __init__(self, faces)\n",
    " |      Initialize the Die object with faces and default weights.\n",
    " |      \n",
    " |      Args:\n",
    " |          faces (np.ndarray): A NumPy array of unique symbols representing the faces of the die.\n",
    " |      \n",
    " |      Raises:\n",
    " |          TypeError: If faces is not a NumPy array.\n",
    " |          ValueError: If faces contain duplicate values.\n",
    " |  \n",
    " |  change_weight(self, face, new_weight)\n",
    " |      Change the weight of a specific face on the die.\n",
    " |      \n",
    " |      Args:\n",
    " |          face: The face whose weight is to be changed.\n",
    " |          new_weight (float): The new weight to assign to the face.\n",
    " |      \n",
    " |      Raises:\n",
    " |          IndexError: If the face is not found in the die.\n",
    " |          TypeError: If the new weight is not a positive numeric value.\n",
    " |  \n",
    " |  roll(self, rolls=1)\n",
    " |      Roll the die one or more times.\n",
    " |      \n",
    " |      Args:\n",
    " |          rolls (int): Number of times the die should be rolled. Defaults to 1.\n",
    " |      \n",
    " |      Returns:\n",
    " |          list: A list of outcomes for each roll.\n",
    " |  \n",
    " |  show(self)\n",
    " |      Show the current state of the die.\n",
    " |      \n",
    " |      Returns:\n",
    " |          pd.DataFrame: A DataFrame with the faces and their respective weights.\n",
    " |  \n",
    " |  ----------------------------------------------------------------------\n",
    " |  Data descriptors defined here:\n",
    " |  \n",
    " |  __dict__\n",
    " |      dictionary for instance variables (if defined)\n",
    " |  \n",
    " |  __weakref__\n",
    " |      list of weak references to the object (if defined)\n",
    "\n",
    "\n",
    "Help for Game class:\n",
    "Help on class Game in module montecarlo_simulator.montecarlo:\n",
    "\n",
    "class Game(builtins.object)\n",
    " |  Game(dice)\n",
    " |  \n",
    " |  A class representing a game consisting of rolling one or more dice.\n",
    " |  \n",
    " |  Attributes:\n",
    " |      dice (list): A list of Die objects used in the game.\n",
    " |      _results (pd.DataFrame): A private DataFrame storing the results of the game.\n",
    " |  \n",
    " |  Methods defined here:\n",
    " |  \n",
    " |  __init__(self, dice)\n",
    " |      Initialize the Game with a list of dice.\n",
    " |      \n",
    " |      Args:\n",
    " |          dice (list): A list of Die objects.\n",
    " |      \n",
    " |      Raises:\n",
    " |          TypeError: If the input is not a list of Die objects.\n",
    " |  \n",
    " |  play(self, rolls=1)\n",
    " |      Play the game by rolling all dice a specified number of times.\n",
    " |      \n",
    " |      Args:\n",
    " |          rolls (int): Number of times to roll the dice.\n",
    " |      \n",
    " |      Returns:\n",
    " |          None\n",
    " |  \n",
    " |  show(self, form='wide')\n",
    " |      Show the results of the most recent play.\n",
    " |      \n",
    " |      Args:\n",
    " |          form (str): Format of the results, either 'wide' or 'narrow'. Defaults to 'wide'.\n",
    " |      \n",
    " |      Returns:\n",
    " |          pd.DataFrame: The results in the specified format.\n",
    " |      \n",
    " |      Raises:\n",
    " |          ValueError: If no results are available or the format is invalid.\n",
    " |  \n",
    " |  ----------------------------------------------------------------------\n",
    " |  Data descriptors defined here:\n",
    " |  \n",
    " |  __dict__\n",
    " |      dictionary for instance variables (if defined)\n",
    " |  \n",
    " |  __weakref__\n",
    " |      list of weak references to the object (if defined)\n",
    "\n",
    "\n",
    "Help for Analyzer class:\n",
    "Help on class Analyzer in module montecarlo_simulator.montecarlo:\n",
    "\n",
    "class Analyzer(builtins.object)\n",
    " |  Analyzer(game)\n",
    " |  \n",
    " |  A class for analyzing the results of a game of dice.\n",
    " |  \n",
    " |  Attributes:\n",
    " |      game (Game): The Game object to analyze.\n",
    " |      results (pd.DataFrame): The results of the game in wide format.\n",
    " |  \n",
    " |  Methods defined here:\n",
    " |  \n",
    " |  __init__(self, game)\n",
    " |      Initialize the Analyzer with a Game object.\n",
    " |      \n",
    " |      Args:\n",
    " |          game (Game): The Game object to analyze.\n",
    " |      \n",
    " |      Raises:\n",
    " |          TypeError: If the input is not a Game object.\n",
    " |  \n",
    " |  combo_count(self)\n",
    " |      Compute the distinct combinations of faces rolled, order-independent.\n",
    " |      \n",
    " |      Returns:\n",
    " |          pd.DataFrame: A DataFrame with combinations and their counts.\n",
    " |  \n",
    " |  face_counts_per_roll(self)\n",
    " |      Compute how many times each face was rolled per event.\n",
    " |      \n",
    " |      Returns:\n",
    " |          pd.DataFrame: A DataFrame with face counts for each roll.\n",
    " |  \n",
    " |  jackpot(self)\n",
    " |      Compute the number of jackpots (all faces are the same).\n",
    " |      \n",
    " |      Returns:\n",
    " |          int: The number of jackpots.\n",
    " |  \n",
    " |  permutation_count(self)\n",
    " |      Compute the distinct permutations of faces rolled, order-dependent.\n",
    " |      \n",
    " |      Returns:\n",
    " |          pd.DataFrame: A DataFrame with permutations and their counts.\n",
    " |  \n",
    " |  ----------------------------------------------------------------------\n",
    " |  Data descriptors defined here:\n",
    " |  \n",
    " |  __dict__\n",
    " |      dictionary for instance variables (if defined)\n",
    " |  \n",
    " |  __weakref__\n",
    " |      list of weak references to the object (if defined)\n",
    "\n"
   ]
  },
  {
   "cell_type": "markdown",
   "id": "a9defa84-b395-4966-bd1c-5c6c2bb7ed68",
   "metadata": {},
   "source": [
    "## `README.md` File (3)\n",
    "\n",
    "Provide link to the README.md file of your project's repo.\n",
    "\n",
    "- Metadata section or info present (1).\n",
    "- Synopsis section showing how each class is called (1). (All must be included.)\n",
    "- API section listing all classes and methods (1). (All must be included.)"
   ]
  },
  {
   "cell_type": "markdown",
   "id": "ee090b33-d593-48a0-bf35-e739cea0942c",
   "metadata": {},
   "source": [
    "URL: https://github.com/tsegatomas/Final-Project-DS5100.git"
   ]
  },
  {
   "cell_type": "markdown",
   "id": "108604c8-8827-42ef-ab59-6b25428fc0ca",
   "metadata": {},
   "source": [
    "## Successful installation (2)\n",
    "\n",
    "Put a screenshot or paste a copy of a terminal session where you successfully install your module with pip.\n",
    "\n",
    "If pasting text, use a preformatted text block to show the results.\n",
    "\n",
    "- Installed with `pip` (1).\n",
    "- Successfully installed message appears (1)."
   ]
  },
  {
   "cell_type": "raw",
   "id": "1278db6a-aa53-4e5c-a749-93a87ab239e0",
   "metadata": {},
   "source": [
    "# Pasted code\n",
    "bash-4.4$ pip install -e .\n",
    "Defaulting to user installation because normal site-packages is not writeable\n",
    "Obtaining file:///sfs/gpfs/tardis/home/hhn5nx/Documents/MSDS/DS5100/DS5100--tsegatomas-/montecarlo_simulator_project\n",
    "  Preparing metadata (setup.py) ... done\n",
    "Requirement already satisfied: numpy in /sfs/applications/202406_build/software/standard/core/miniforge/24.3.0-py3.11/lib/python3.11/site-packages (from montecarlo_simulator==1.0.0) (1.24.3)\n",
    "Requirement already satisfied: pandas in /sfs/applications/202406_build/software/standard/core/miniforge/24.3.0-py3.11/lib/python3.11/site-packages (from montecarlo_simulator==1.0.0) (1.5.3)\n",
    "Requirement already satisfied: python-dateutil>=2.8.1 in /sfs/applications/202406_build/software/standard/core/miniforge/24.3.0-py3.11/lib/python3.11/site-packages (from pandas->montecarlo_simulator==1.0.0) (2.9.0)\n",
    "Requirement already satisfied: pytz>=2020.1 in /sfs/applications/202406_build/software/standard/core/miniforge/24.3.0-py3.11/lib/python3.11/site-packages (from pandas->montecarlo_simulator==1.0.0) (2024.1)\n",
    "Requirement already satisfied: six>=1.5 in /sfs/applications/202406_build/software/standard/core/miniforge/24.3.0-py3.11/lib/python3.11/site-packages (from python-dateutil>=2.8.1->pandas->montecarlo_simulator==1.0.0) (1.16.0)\n",
    "Installing collected packages: montecarlo_simulator\n",
    "  Attempting uninstall: montecarlo_simulator\n",
    "    Found existing installation: montecarlo_simulator 1.0.0\n",
    "    Uninstalling montecarlo_simulator-1.0.0:\n",
    "      Successfully uninstalled montecarlo_simulator-1.0.0\n",
    "  Running setup.py develop for montecarlo_simulator\n",
    "Successfully installed montecarlo_simulator-1.0.0"
   ]
  },
  {
   "cell_type": "markdown",
   "id": "7c44695d-d1b3-4edf-9f94-e64d7446f199",
   "metadata": {},
   "source": [
    "# Scenarios\n",
    "\n",
    "Use code blocks to perform the tasks for each scenario.\n",
    "\n",
    "Be sure the outputs are visible before submitting."
   ]
  },
  {
   "cell_type": "markdown",
   "id": "e2479eae-6fc9-44cd-b8d7-9b22cb501f2a",
   "metadata": {
    "tags": []
   },
   "source": [
    "## Scenario 1: A 2-headed Coin (9)\n",
    "\n",
    "Task 1. Create a fair coin (with faces $H$ and $T$) and one unfair coin in which one of the faces has a weight of $5$ and the others $1$.\n",
    "\n",
    "- Fair coin created (1).\n",
    "- Unfair coin created with weight as specified (1)."
   ]
  },
  {
   "cell_type": "code",
   "execution_count": 7,
   "id": "55ce498e-c75f-4425-9e3e-b635bd6cd9e1",
   "metadata": {},
   "outputs": [
    {
     "name": "stdout",
     "output_type": "stream",
     "text": [
      "Fair coin created:       weight\n",
      "face        \n",
      "H        1.0\n",
      "T        1.0\n",
      "Unfair coin created:       weight\n",
      "face        \n",
      "H        5.0\n",
      "T        1.0\n"
     ]
    }
   ],
   "source": [
    "import numpy as np\n",
    "from montecarlo_simulator.montecarlo import Die\n",
    "\n",
    "# Fair coin with equal weights for 'H' and 'T'\n",
    "fair_coin = Die(np.array(['H', 'T']))\n",
    "print(\"Fair coin created:\", fair_coin.show())\n",
    "\n",
    "# Unfair coin with weight 5 for 'H' and 1 for 'T'\n",
    "unfair_coin = Die(np.array(['H', 'T']))\n",
    "unfair_coin.change_weight('H', 5)\n",
    "print(\"Unfair coin created:\", unfair_coin.show())\n"
   ]
  },
  {
   "cell_type": "markdown",
   "id": "02b272ab-99da-4b6e-ac2a-555b73e09c07",
   "metadata": {},
   "source": [
    "Task 2. Play a game of $1000$ flips with two fair dice.\n",
    "\n",
    "- Play method called correclty and without error (1)."
   ]
  },
  {
   "cell_type": "code",
   "execution_count": 8,
   "id": "65c92601-d32d-4326-b215-74953aee27f2",
   "metadata": {},
   "outputs": [
    {
     "name": "stdout",
     "output_type": "stream",
     "text": [
      "Game with two fair coins played. Results:\n",
      "      Die_0 Die_1\n",
      "Roll            \n",
      "0        H     H\n",
      "1        T     T\n",
      "2        T     T\n",
      "3        H     H\n",
      "4        H     H\n",
      "...    ...   ...\n",
      "995      T     T\n",
      "996      H     T\n",
      "997      H     H\n",
      "998      T     H\n",
      "999      T     T\n",
      "\n",
      "[1000 rows x 2 columns]\n"
     ]
    }
   ],
   "source": [
    "from montecarlo_simulator.montecarlo import Game\n",
    "\n",
    "# Create a game with two fair coins\n",
    "game_fair = Game([fair_coin, fair_coin])\n",
    "game_fair.play(rolls=1000)\n",
    "print(\"Game with two fair coins played. Results:\\n\", game_fair.show(form='wide'))\n"
   ]
  },
  {
   "cell_type": "markdown",
   "id": "7d9c3dc8-22c1-4cae-81fb-d68d774a05d1",
   "metadata": {},
   "source": [
    "Task 3. Play another game (using a new Game object) of $1000$ flips, this time using two unfair dice and one fair die. For the second unfair die, you can use the same die object twice in the list of dice you pass to the Game object.\n",
    "\n",
    "- New game object created (1).\n",
    "- Play method called correclty and without error (1)."
   ]
  },
  {
   "cell_type": "code",
   "execution_count": 9,
   "id": "d4098bed-1eb2-4084-8d5e-9fda07c3be43",
   "metadata": {},
   "outputs": [
    {
     "name": "stdout",
     "output_type": "stream",
     "text": [
      "Game with two unfair coins and one fair coin played. Results:\n",
      "      Die_0 Die_1 Die_2\n",
      "Roll                  \n",
      "0        T     H     T\n",
      "1        H     H     H\n",
      "2        H     H     T\n",
      "3        H     H     H\n",
      "4        H     T     T\n",
      "...    ...   ...   ...\n",
      "995      H     H     H\n",
      "996      H     H     T\n",
      "997      H     H     T\n",
      "998      H     H     H\n",
      "999      H     H     T\n",
      "\n",
      "[1000 rows x 3 columns]\n"
     ]
    }
   ],
   "source": [
    "# Create a game with two unfair coins and one fair coin\n",
    "game_unfair = Game([unfair_coin, unfair_coin, fair_coin])\n",
    "game_unfair.play(rolls=1000)\n",
    "print(\"Game with two unfair coins and one fair coin played. Results:\\n\", game_unfair.show(form='wide'))\n"
   ]
  },
  {
   "cell_type": "markdown",
   "id": "f690ebfc-fe71-4eb2-976d-7ac80ca6c23f",
   "metadata": {},
   "source": [
    "Task 4. For each game, use an Analyzer object to determine the raw frequency of jackpots — i.e. getting either all $H$s or all $T$s.\n",
    "\n",
    "- Analyzer objecs instantiated for both games (1).\n",
    "- Raw frequencies reported for both (1)."
   ]
  },
  {
   "cell_type": "code",
   "execution_count": 10,
   "id": "b26b8b7e-3be7-4476-a9a4-37d97536729e",
   "metadata": {},
   "outputs": [
    {
     "name": "stdout",
     "output_type": "stream",
     "text": [
      "Raw frequency of jackpots for fair game: 515\n",
      "Raw frequency of jackpots for unfair game: 351\n"
     ]
    }
   ],
   "source": [
    "from montecarlo_simulator.montecarlo import Analyzer\n",
    "\n",
    "# Analyzer for the fair coin game\n",
    "analyzer_fair = Analyzer(game_fair)\n",
    "jackpots_fair = analyzer_fair.jackpot()\n",
    "print(f\"Raw frequency of jackpots for fair game: {jackpots_fair}\")\n",
    "\n",
    "# Analyzer for the unfair coin game\n",
    "analyzer_unfair = Analyzer(game_unfair)\n",
    "jackpots_unfair = analyzer_unfair.jackpot()\n",
    "print(f\"Raw frequency of jackpots for unfair game: {jackpots_unfair}\")\n"
   ]
  },
  {
   "cell_type": "markdown",
   "id": "b73d233c-445e-40cd-8858-0c5e1f097105",
   "metadata": {},
   "source": [
    "Task 5. For each analyzer, compute relative frequency as the number of jackpots over the total number of rolls.\n",
    "\n",
    "- Both relative frequencies computed (1)."
   ]
  },
  {
   "cell_type": "code",
   "execution_count": 11,
   "id": "9a96b31b-1b9d-496e-be3e-4bf83c45ec3a",
   "metadata": {},
   "outputs": [
    {
     "name": "stdout",
     "output_type": "stream",
     "text": [
      "Relative frequency of jackpots for fair game: 0.515\n",
      "Relative frequency of jackpots for unfair game: 0.351\n"
     ]
    }
   ],
   "source": [
    "# Total rolls for each game\n",
    "total_rolls_fair = 1000\n",
    "total_rolls_unfair = 1000\n",
    "\n",
    "# Relative frequency of jackpots\n",
    "relative_frequency_fair = jackpots_fair / total_rolls_fair\n",
    "relative_frequency_unfair = jackpots_unfair / total_rolls_unfair\n",
    "\n",
    "print(f\"Relative frequency of jackpots for fair game: {relative_frequency_fair}\")\n",
    "print(f\"Relative frequency of jackpots for unfair game: {relative_frequency_unfair}\")\n"
   ]
  },
  {
   "cell_type": "markdown",
   "id": "a6e1e734-7f5c-4721-8ba4-2f3a424cf984",
   "metadata": {},
   "source": [
    "Task 6. Show your results, comparing the two relative frequencies, in a simple bar chart.\n",
    "\n",
    "- Bar chart plotted and correct (1)."
   ]
  },
  {
   "cell_type": "code",
   "execution_count": 12,
   "id": "473fa67c-aa53-4aa3-a0b7-e8772b3f6ed3",
   "metadata": {},
   "outputs": [
    {
     "data": {
      "image/png": "[encoded data removed]",
      "text/plain": [
       "<Figure size 640x480 with 1 Axes>"
      ]
     },
     "metadata": {},
     "output_type": "display_data"
    }
   ],
   "source": [
    "import matplotlib.pyplot as plt\n",
    "\n",
    "# Bar chart data\n",
    "labels = ['Fair Game', 'Unfair Game']\n",
    "frequencies = [relative_frequency_fair, relative_frequency_unfair]\n",
    "\n",
    "# Create the bar chart\n",
    "plt.bar(labels, frequencies)\n",
    "plt.ylabel('Relative Frequency')\n",
    "plt.title('Comparison of Jackpot Relative Frequencies')\n",
    "plt.show()\n"
   ]
  },
  {
   "cell_type": "markdown",
   "id": "725cfa5b-e4b7-47c9-86aa-8d9e1fe6c8c7",
   "metadata": {},
   "source": [
    "## Scenario 2: A 6-sided Die (9)\n",
    "\n",
    "Task 1. Create three dice, each with six sides having the faces 1 through 6.\n",
    "\n",
    "- Three die objects created (1)."
   ]
  },
  {
   "cell_type": "code",
   "execution_count": 13,
   "id": "6a8bc611-325a-4e05-88d5-980e0a2cf7c5",
   "metadata": {},
   "outputs": [
    {
     "name": "stdout",
     "output_type": "stream",
     "text": [
      "Three dice created successfully!\n",
      "Die 1:\n",
      "       weight\n",
      "face        \n",
      "1        1.0\n",
      "2        1.0\n",
      "3        1.0\n",
      "4        1.0\n",
      "5        1.0\n",
      "6        1.0\n",
      "Die 2:\n",
      "       weight\n",
      "face        \n",
      "1        1.0\n",
      "2        1.0\n",
      "3        1.0\n",
      "4        1.0\n",
      "5        1.0\n",
      "6        1.0\n",
      "Die 3:\n",
      "       weight\n",
      "face        \n",
      "1        1.0\n",
      "2        1.0\n",
      "3        1.0\n",
      "4        1.0\n",
      "5        1.0\n",
      "6        1.0\n"
     ]
    }
   ],
   "source": [
    "import numpy as np\n",
    "from montecarlo_simulator.montecarlo import Die\n",
    "\n",
    "# Create three dice with faces 1 through 6\n",
    "die1 = Die(np.array([1, 2, 3, 4, 5, 6]))\n",
    "die2 = Die(np.array([1, 2, 3, 4, 5, 6]))\n",
    "die3 = Die(np.array([1, 2, 3, 4, 5, 6]))\n",
    "\n",
    "print(\"Three dice created successfully!\")\n",
    "print(\"Die 1:\\n\", die1.show())\n",
    "print(\"Die 2:\\n\", die2.show())\n",
    "print(\"Die 3:\\n\", die3.show())\n"
   ]
  },
  {
   "cell_type": "markdown",
   "id": "2ed3ad26-fbe9-43bd-9ad7-f683a4191d12",
   "metadata": {},
   "source": [
    "Task 2. Convert one of the dice to an unfair one by weighting the face $6$ five times more than the other weights (i.e. it has weight of 5 and the others a weight of 1 each).\n",
    "\n",
    "- Unfair die created with proper call to weight change method (1)."
   ]
  },
  {
   "cell_type": "code",
   "execution_count": 14,
   "id": "e33dd18f-7f90-456d-a680-61c08a328e21",
   "metadata": {},
   "outputs": [
    {
     "name": "stdout",
     "output_type": "stream",
     "text": [
      "Three dice created successfully!\n",
      "Die 1:\n",
      "       weight\n",
      "face        \n",
      "1        1.0\n",
      "2        1.0\n",
      "3        1.0\n",
      "4        1.0\n",
      "5        1.0\n",
      "6        1.0\n",
      "Die 2:\n",
      "       weight\n",
      "face        \n",
      "1        1.0\n",
      "2        1.0\n",
      "3        1.0\n",
      "4        1.0\n",
      "5        1.0\n",
      "6        1.0\n",
      "Die 3:\n",
      "       weight\n",
      "face        \n",
      "1        1.0\n",
      "2        1.0\n",
      "3        1.0\n",
      "4        1.0\n",
      "5        1.0\n",
      "6        1.0\n"
     ]
    }
   ],
   "source": [
    "import numpy as np\n",
    "from montecarlo_simulator.montecarlo import Die\n",
    "\n",
    "# Create three dice with faces 1 through 6\n",
    "die1 = Die(np.array([1, 2, 3, 4, 5, 6]))\n",
    "die2 = Die(np.array([1, 2, 3, 4, 5, 6]))\n",
    "die3 = Die(np.array([1, 2, 3, 4, 5, 6]))\n",
    "\n",
    "print(\"Three dice created successfully!\")\n",
    "print(\"Die 1:\\n\", die1.show())\n",
    "print(\"Die 2:\\n\", die2.show())\n",
    "print(\"Die 3:\\n\", die3.show())\n"
   ]
  },
  {
   "cell_type": "markdown",
   "id": "7f6c062a-4c5b-45b9-96b8-76a0354c7e47",
   "metadata": {},
   "source": [
    "Task 3. Convert another of the dice to be unfair by weighting the face $1$ five times more than the others.\n",
    "\n",
    "- Unfair die created with proper call to weight change method (1)."
   ]
  },
  {
   "cell_type": "code",
   "execution_count": 15,
   "id": "01133a4e-6b06-4246-8d90-8e6d6995be51",
   "metadata": {},
   "outputs": [
    {
     "name": "stdout",
     "output_type": "stream",
     "text": [
      "Die 2 modified to be unfair:\n",
      "       weight\n",
      "face        \n",
      "1        5.0\n",
      "2        1.0\n",
      "3        1.0\n",
      "4        1.0\n",
      "5        1.0\n",
      "6        1.0\n"
     ]
    }
   ],
   "source": [
    "# Modify die2 to be unfair with weight 5 for face 1\n",
    "die2.change_weight(1, 5)\n",
    "print(\"Die 2 modified to be unfair:\\n\", die2.show())\n"
   ]
  },
  {
   "cell_type": "markdown",
   "id": "f0ed31cb-0a3c-4eb2-b85e-6ed6b2eb6e58",
   "metadata": {},
   "source": [
    "Task 4. Play a game of $10000$ rolls with $5$ fair dice.\n",
    "\n",
    "- Game class properly instantiated (1). \n",
    "- Play method called properly (1)."
   ]
  },
  {
   "cell_type": "code",
   "execution_count": 16,
   "id": "e92395a4-9ed8-4cb0-8c85-38768a784ffc",
   "metadata": {},
   "outputs": [
    {
     "name": "stdout",
     "output_type": "stream",
     "text": [
      "Game with 5 fair dice played.\n"
     ]
    }
   ],
   "source": [
    "from montecarlo_simulator.montecarlo import Game\n",
    "\n",
    "# Create 5 fair dice\n",
    "fair_dice = [Die(np.array([1, 2, 3, 4, 5, 6])) for _ in range(5)]\n",
    "\n",
    "# Play a game with 5 fair dice\n",
    "game_fair = Game(fair_dice)\n",
    "game_fair.play(rolls=10000)\n",
    "print(\"Game with 5 fair dice played.\")\n",
    "\n"
   ]
  },
  {
   "cell_type": "markdown",
   "id": "7814b402-46a4-40e5-8141-20e05c3e646b",
   "metadata": {},
   "source": [
    "Task 5. Play another game of $10000$ rolls, this time with $2$ unfair dice, one as defined in steps #2 and #3 respectively, and $3$ fair dice.\n",
    "\n",
    "- Game class properly instantiated (1). \n",
    "- Play method called properly (1)."
   ]
  },
  {
   "cell_type": "code",
   "execution_count": 17,
   "id": "7cd58fba-b2a5-4d5d-bc6d-2a7a68d18c4f",
   "metadata": {},
   "outputs": [
    {
     "name": "stdout",
     "output_type": "stream",
     "text": [
      "Game with 2 unfair dice and 3 fair dice played.\n"
     ]
    }
   ],
   "source": [
    "# Create a game with 2 unfair dice and 3 fair dice\n",
    "game_unfair = Game([die1, die2] + fair_dice[:3])\n",
    "game_unfair.play(rolls=10000)\n",
    "print(\"Game with 2 unfair dice and 3 fair dice played.\")\n"
   ]
  },
  {
   "cell_type": "markdown",
   "id": "7b6cd372-2bb8-4df8-ade1-8f48bc300955",
   "metadata": {},
   "source": [
    "Task 6. For each game, use an Analyzer object to determine the relative frequency of jackpots and show your results, comparing the two relative frequencies, in a simple bar chart.\n",
    "\n",
    "- Jackpot methods called (1).\n",
    "- Graph produced (1)."
   ]
  },
  {
   "cell_type": "code",
   "execution_count": 18,
   "id": "bbdcf695-8937-406e-9b53-aa0b9ee3c59a",
   "metadata": {},
   "outputs": [
    {
     "name": "stdout",
     "output_type": "stream",
     "text": [
      "Relative frequency of jackpots for the fair game: 0.0007\n",
      "Relative frequency of jackpots for the unfair game: 0.0013\n"
     ]
    },
    {
     "data": {
      "image/png": "[encoded data removed]",
      "text/plain": [
       "<Figure size 640x480 with 1 Axes>"
      ]
     },
     "metadata": {},
     "output_type": "display_data"
    }
   ],
   "source": [
    "from montecarlo_simulator.montecarlo import Analyzer\n",
    "import matplotlib.pyplot as plt\n",
    "\n",
    "# Analyzer for the fair dice game\n",
    "analyzer_fair = Analyzer(game_fair)\n",
    "jackpots_fair = analyzer_fair.jackpot()\n",
    "relative_frequency_fair = jackpots_fair / 10000\n",
    "print(f\"Relative frequency of jackpots for the fair game: {relative_frequency_fair}\")\n",
    "\n",
    "# Analyzer for the unfair dice game\n",
    "analyzer_unfair = Analyzer(game_unfair)\n",
    "jackpots_unfair = analyzer_unfair.jackpot()\n",
    "relative_frequency_unfair = jackpots_unfair / 10000\n",
    "print(f\"Relative frequency of jackpots for the unfair game: {relative_frequency_unfair}\")\n",
    "\n",
    "# Plot the results in a bar chart\n",
    "labels = ['Fair Game', 'Unfair Game']\n",
    "frequencies = [relative_frequency_fair, relative_frequency_unfair]\n",
    "\n",
    "plt.bar(labels, frequencies)\n",
    "plt.ylabel('Relative Frequency of Jackpots')\n",
    "plt.title('Comparison of Jackpot Frequencies')\n",
    "plt.show()\n"
   ]
  },
  {
   "cell_type": "markdown",
   "id": "9f04e9be-8fcf-4ea4-a391-6614608285f8",
   "metadata": {},
   "source": [
    "## Scenario 3: Letters of the Alphabet (7)\n",
    "\n",
    "Task 1. Create a \"die\" of letters from $A$ to $Z$ with weights based on their frequency of usage as found in the data file `english_letters.txt`. Use the frequencies (i.e. raw counts) as weights.\n",
    "\n",
    "- Die correctly instantiated with source file data (1).\n",
    "- Weights properly applied using weight setting method (1)."
   ]
  },
  {
   "cell_type": "code",
   "execution_count": 19,
   "id": "b0ceb771-3cdf-4d8f-8c2c-020806bbb909",
   "metadata": {},
   "outputs": [
    {
     "name": "stdout",
     "output_type": "stream",
     "text": [
      "Die of letters created successfully!\n",
      "           weight\n",
      "face             \n",
      "E     529117365.0\n",
      "T     390965105.0\n",
      "A     374061888.0\n",
      "O     326627740.0\n",
      "I     320410057.0\n",
      "N     313720540.0\n",
      "S     294300210.0\n",
      "R     277000841.0\n",
      "H     216768975.0\n",
      "L     183996130.0\n",
      "D     169330528.0\n",
      "C     138416451.0\n",
      "U     117295780.0\n",
      "M     110504544.0\n",
      "F      95422055.0\n",
      "G      91258980.0\n",
      "P      90376747.0\n",
      "W      79843664.0\n",
      "Y      75294515.0\n",
      "B      70195826.0\n",
      "V      46337161.0\n",
      "K      35373464.0\n",
      "J       9613410.0\n",
      "X       8369915.0\n",
      "Z       4975847.0\n",
      "Q       4550166.0\n"
     ]
    }
   ],
   "source": [
    "import pandas as pd\n",
    "import numpy as np\n",
    "from montecarlo_simulator.montecarlo import Die\n",
    "\n",
    "# Load the frequencies from english_letters.txt\n",
    "with open('montecarlo_simulator/english_letters.txt') as f:\n",
    "    letter_frequencies = {}\n",
    "    for line in f:\n",
    "        letter, freq = line.strip().split()\n",
    "        letter_frequencies[letter] = float(freq)\n",
    "\n",
    "# Create the die with letters A to Z and their respective weights\n",
    "letters = np.array(list(letter_frequencies.keys()))\n",
    "frequencies = np.array(list(letter_frequencies.values()))\n",
    "\n",
    "die_letters = Die(letters)\n",
    "for letter, freq in letter_frequencies.items():\n",
    "    die_letters.change_weight(letter, freq)\n",
    "\n",
    "print(\"Die of letters created successfully!\")\n",
    "print(die_letters.show())\n"
   ]
  },
  {
   "cell_type": "markdown",
   "id": "88e2e14a-6223-470a-a2c8-bca1120d7a5b",
   "metadata": {},
   "source": [
    "Task 2. Play a game involving $4$ of these dice with $1000$ rolls.\n",
    "\n",
    "- Game play method properly called (1)."
   ]
  },
  {
   "cell_type": "code",
   "execution_count": 20,
   "id": "2ae087cc-936d-4f1e-bddb-a7c179d139e0",
   "metadata": {},
   "outputs": [
    {
     "name": "stdout",
     "output_type": "stream",
     "text": [
      "Game with 4 dice and 1000 rolls completed.\n",
      "     Die_0 Die_1 Die_2 Die_3\n",
      "Roll                        \n",
      "0        R     A     A     O\n",
      "1        C     M     F     T\n",
      "2        E     N     A     P\n",
      "3        B     H     G     O\n",
      "4        N     L     H     I\n",
      "...    ...   ...   ...   ...\n",
      "995      O     G     R     F\n",
      "996      O     U     R     I\n",
      "997      H     A     S     A\n",
      "998      N     D     D     U\n",
      "999      O     S     O     N\n",
      "\n",
      "[1000 rows x 4 columns]\n"
     ]
    }
   ],
   "source": [
    "from montecarlo_simulator.montecarlo import Game\n",
    "\n",
    "# Create 4 identical dice with the letter die\n",
    "dice = [die_letters] * 4  # Use the same die object for simplicity\n",
    "\n",
    "# Instantiate the Game class and play\n",
    "game_letters = Game(dice)\n",
    "game_letters.play(rolls=1000)\n",
    "\n",
    "print(\"Game with 4 dice and 1000 rolls completed.\")\n",
    "print(game_letters.show())\n"
   ]
  },
  {
   "cell_type": "markdown",
   "id": "3b9ff800-bf1f-4f66-9d7f-ff57a648e9f0",
   "metadata": {},
   "source": [
    "Task 3. Determine how many permutations in your results are actual English words, based on the vocabulary found in `scrabble_words.txt`.\n",
    "\n",
    "- Use permutation method (1).\n",
    "- Get count as difference between permutations and vocabulary (1)."
   ]
  },
  {
   "cell_type": "code",
   "execution_count": 21,
   "id": "ed1c7fa0-cfa3-4cf4-9fd0-9f84b86b0f64",
   "metadata": {},
   "outputs": [
    {
     "name": "stdout",
     "output_type": "stream",
     "text": [
      "Number of valid English words: 61\n",
      "Total permutations: 990\n"
     ]
    }
   ],
   "source": [
    "from montecarlo_simulator.montecarlo import Analyzer\n",
    "\n",
    "# Load scrabble words\n",
    "with open('montecarlo_simulator/scrabble_words.txt') as f:\n",
    "    scrabble_words = set(line.strip().lower() for line in f)\n",
    "\n",
    "# Analyze permutations\n",
    "analyzer_letters = Analyzer(game_letters)\n",
    "permutations = analyzer_letters.permutation_count()\n",
    "\n",
    "# Count permutations that are valid English words\n",
    "valid_words = [perm for perm in permutations.index if ''.join(perm).lower() in scrabble_words]\n",
    "valid_word_count = len(valid_words)\n",
    "\n",
    "print(f\"Number of valid English words: {valid_word_count}\")\n",
    "print(f\"Total permutations: {len(permutations)}\")\n"
   ]
  },
  {
   "cell_type": "markdown",
   "id": "fcf068cf-381a-4b3e-ac3a-0510eb4dbdb0",
   "metadata": {},
   "source": [
    "Task 4. Repeat steps #2 and #3, this time with $5$ dice. How many actual words does this produce? Which produces more?\n",
    "\n",
    "- Successfully repreats steps (1).\n",
    "- Identifies parameter with most found words (1)."
   ]
  },
  {
   "cell_type": "code",
   "execution_count": 22,
   "id": "e94ecf3b-5265-4835-82cd-f8d3be4156b6",
   "metadata": {
    "tags": []
   },
   "outputs": [
    {
     "name": "stdout",
     "output_type": "stream",
     "text": [
      "Game with 5 dice and 1000 rolls completed.\n",
      "     Die_0 Die_1 Die_2 Die_3 Die_4\n",
      "Roll                              \n",
      "0        T     E     V     E     A\n",
      "1        A     O     W     K     D\n",
      "2        P     O     I     N     N\n",
      "3        O     L     H     H     N\n",
      "4        N     E     G     T     W\n",
      "...    ...   ...   ...   ...   ...\n",
      "995      A     H     F     Y     N\n",
      "996      S     S     S     D     K\n",
      "997      P     M     A     N     I\n",
      "998      N     E     F     S     T\n",
      "999      D     E     I     E     H\n",
      "\n",
      "[1000 rows x 5 columns]\n",
      "Number of valid English words with 4 dice: 61\n",
      "Number of valid English words with 5 dice: 10\n",
      "Using 4 dice produces more valid words.\n"
     ]
    }
   ],
   "source": [
    "# Create a new game with 5 dice\n",
    "dice_5 = [die_letters] * 5\n",
    "game_letters_5 = Game(dice_5)\n",
    "game_letters_5.play(rolls=1000)\n",
    "\n",
    "print(\"Game with 5 dice and 1000 rolls completed.\")\n",
    "print(game_letters_5.show())\n",
    "\n",
    "# Analyze permutations for 5 dice\n",
    "analyzer_letters_5 = Analyzer(game_letters_5)\n",
    "permutations_5 = analyzer_letters_5.permutation_count()\n",
    "\n",
    "# Count valid words\n",
    "valid_words_5 = [perm for perm in permutations_5.index if ''.join(perm).lower() in scrabble_words]\n",
    "valid_word_count_5 = len(valid_words_5)\n",
    "\n",
    "# Compare the results\n",
    "print(f\"Number of valid English words with 4 dice: {valid_word_count}\")\n",
    "print(f\"Number of valid English words with 5 dice: {valid_word_count_5}\")\n",
    "\n",
    "# Determine which produces more words\n",
    "if valid_word_count_5 > valid_word_count:\n",
    "    print(\"Using 5 dice produces more valid words.\")\n",
    "else:\n",
    "    print(\"Using 4 dice produces more valid words.\")\n"
   ]
  },
  {
   "cell_type": "code",
   "execution_count": null,
   "id": "19350d21-8220-4f39-93c6-234a544f5fbb",
   "metadata": {},
   "outputs": [],
   "source": []
  }
 ],
 "metadata": {
  "kernelspec": {
   "display_name": "Python 3 (ipykernel)",
   "language": "python",
   "name": "python3"
  },
  "language_info": {
   "codemirror_mode": {
    "name": "ipython",
    "version": 3
   },
   "file_extension": ".py",
   "mimetype": "text/x-python",
   "name": "python",
   "nbconvert_exporter": "python",
   "pygments_lexer": "ipython3",
   "version": "3.11.4"
  },
  "toc-autonumbering": true,
  "widgets": {
   "application/vnd.jupyter.widget-state+json": {
    "state": {},
    "version_major": 2,
    "version_minor": 0
   }
  }
 },
 "nbformat": 4,
 "nbformat_minor": 5
}
