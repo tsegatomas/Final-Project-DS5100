{
 "cells": [
  {
   "cell_type": "markdown",
   "id": "45762487-d33f-486d-8e38-2cdea04e3528",
   "metadata": {},
   "source": [
    "# Final Project Report\n",
    "\n",
    "* Class: DS 5100\n",
    "* Student Name: Tomas Tsega\n",
    "* Student Net ID:hhn5nx@virginia.edu\n",
    "* This URL: montecarlo_simulator_project"
   ]
  },
  {
   "cell_type": "markdown",
   "id": "acf756c1-ecaa-41dc-b6ca-d566eb94560b",
   "metadata": {},
   "source": [
    "# Instructions\n",
    "\n",
    "Follow the instructions in the Final Project isntructions notebook and put evidence of your work in this notebook.\n",
    "\n",
    "Total points for each subsection under **Deliverables** and **Scenarios** are given in parentheses.\n",
    "\n",
    "Breakdowns of points within subsections are specified within subsection instructions as bulleted lists.\n",
    "\n",
    "This project is worth **50 points**."
   ]
  },
  {
   "cell_type": "markdown",
   "id": "89dc7a32-f682-4402-8c1e-b6ccdb3e0e39",
   "metadata": {},
   "source": [
    "# Deliverables"
   ]
  },
  {
   "cell_type": "markdown",
   "id": "d32cb273-9a40-4909-a7ce-51f6e4958d3c",
   "metadata": {},
   "source": [
    "## The Monte Carlo Module (10)\n",
    "\n",
    "- URL included, appropriately named (1).\n",
    "- Includes all three specified classes (3).\n",
    "- Includes at least all 12 specified methods (6; .5 each)."
   ]
  },
  {
   "cell_type": "markdown",
   "id": "f5f3b070-de9e-4de9-bfae-8974d184aa28",
   "metadata": {},
   "source": [
    "Put the URL to your GitHub repo here.\n",
    "\n",
    "Repo URL: https://github.com/tsegatomas/DS5100--tsegatomas-.git"
   ]
  },
  {
   "cell_type": "markdown",
   "id": "162370fb-3729-4c85-b040-8c25b2c966d2",
   "metadata": {},
   "source": [
    "Paste a copyy of your module here.\n",
    "\n",
    "NOTE: Paste as text, not as code. Use triple backticks to wrap your code blocks."
   ]
  },
  {
   "cell_type": "code",
   "execution_count": 7,
   "id": "a0743efc-a785-4b5c-a9e6-b65d4507a67f",
   "metadata": {},
   "outputs": [],
   "source": [
    "# A code block with your classes.\n",
    "\n",
    "      '''\n",
    "      import os\n",
    "import numpy as np\n",
    "import pandas as pd\n",
    "\n",
    "class Die:\n",
    "    \"\"\"\n",
    "    A class representing a die with N sides, each side having a unique symbol and weight.\n",
    "    \"\"\"\n",
    "    def __init__(self, faces):\n",
    "        if not isinstance(faces, np.ndarray):\n",
    "            raise TypeError(\"Faces must be a NumPy array.\")\n",
    "        if len(faces) != len(set(faces)):\n",
    "            raise ValueError(\"Faces must be distinct values.\")\n",
    "        \n",
    "        self._faces = faces\n",
    "        self._weights = np.ones(len(faces))  # Default weight of 1.0 for each face\n",
    "        self._die_df = pd.DataFrame({\n",
    "            'face': faces,\n",
    "            'weight': self._weights\n",
    "        }).set_index('face')\n",
    "\n",
    "    def change_weight(self, face, new_weight):\n",
    "        if face not in self._die_df.index:\n",
    "            raise IndexError(\"Face value not found in die.\")\n",
    "        if not isinstance(new_weight, (int, float)) or new_weight < 0:\n",
    "            raise TypeError(\"Weight must be a positive numeric value.\")\n",
    "        \n",
    "        self._die_df.at[face, 'weight'] = float(new_weight)\n",
    "\n",
    "    def roll(self, rolls=1):\n",
    "        return self._die_df.sample(n=rolls, weights='weight', replace=True).index.tolist()\n",
    "    \n",
    "    def show(self):\n",
    "        return self._die_df.copy()\n",
    "\n",
    "\n",
    "class Game:\n",
    "    \"\"\"\n",
    "    A class representing a game consisting of rolling one or more dice.\n",
    "    \"\"\"\n",
    "    def __init__(self, dice):\n",
    "        if not isinstance(dice, list) or not all(isinstance(die, Die) for die in dice):\n",
    "            raise TypeError(\"All elements must be Die objects.\")\n",
    "        self.dice = dice\n",
    "        self._results = None\n",
    "\n",
    "    def play(self, rolls=1):\n",
    "        results = {f\"Die_{i}\": die.roll(rolls) for i, die in enumerate(self.dice)}\n",
    "        self._results = pd.DataFrame(results)\n",
    "        self._results.index.name = 'Roll'\n",
    "\n",
    "    def show(self, form='wide'):\n",
    "        if self._results is None:\n",
    "            raise ValueError(\"No results available. Please play the game first.\")\n",
    "        if form == 'wide':\n",
    "            return self._results\n",
    "        elif form == 'narrow':\n",
    "            return self._results.stack().to_frame('Outcome')\n",
    "        else:\n",
    "            raise ValueError(\"Invalid form. Use 'wide' or 'narrow'.\")\n",
    "\n",
    "\n",
    "class Analyzer:\n",
    "    \"\"\"\n",
    "    A class for analyzing the results of a game of dice.\n",
    "    \"\"\"\n",
    "    def __init__(self, game):\n",
    "        if not isinstance(game, Game):\n",
    "            raise TypeError(\"Input must be a Game object.\")\n",
    "        self.game = game\n",
    "        self.results = game.show(form='wide')\n",
    "\n",
    "    def jackpot(self):\n",
    "        return (self.results.nunique(axis=1) == 1).sum()\n",
    "\n",
    "    def face_counts_per_roll(self):\n",
    "        return self.results.apply(pd.Series.value_counts, axis=1).fillna(0)\n",
    "\n",
    "    def combo_count(self):\n",
    "        sorted_rolls = self.results.apply(lambda x: tuple(sorted(x)), axis=1)\n",
    "        return sorted_rolls.value_counts().to_frame('Count')\n",
    "\n",
    "    def permutation_count(self):\n",
    "        perm_rolls = self.results.apply(lambda x: tuple(x), axis=1)\n",
    "        return perm_rolls.value_counts().to_frame('Count')\n",
    "\n",
    "    def scrabble_word_analysis(self, word_list):\n",
    "        valid_words = []\n",
    "        for roll in self.results.apply(lambda x: ''.join(sorted(x)), axis=1):\n",
    "            if roll in word_list:\n",
    "                valid_words.append(True)\n",
    "            else:\n",
    "                valid_words.append(False)\n",
    "        \n",
    "        return pd.DataFrame({'Roll': self.results.index, 'Is_Valid_Word': valid_words})\n",
    "\n",
    "    def letter_frequency_analysis(self, letter_frequencies):\n",
    "        rolled_letter_counts = self.results.apply(pd.Series.value_counts).sum().fillna(0)\n",
    "        comparison = pd.DataFrame({'Rolled_Count': rolled_letter_counts})\n",
    "        comparison['Expected_Frequency'] = comparison.index.map(letter_frequencies)\n",
    "        comparison['Expected_Frequency'] = comparison['Expected_Frequency'].fillna(0)\n",
    "        return comparison\n",
    "\n",
    "\n",
    "# Adjust file paths for scrabble words and English letter frequencies\n",
    "current_dir = os.path.dirname(__file__)\n",
    "scrabble_words_path = os.path.join(current_dir, 'scrabble_words.txt')\n",
    "english_letters_path = os.path.join(current_dir, 'english_letters.txt')\n",
    "\n",
    "# Load scrabble words\n",
    "try:\n",
    "    with open(scrabble_words_path) as f:\n",
    "        scrabble_words = [line.strip() for line in f]\n",
    "except FileNotFoundError:\n",
    "    raise FileNotFoundError(f\"Could not find scrabble_words.txt at {scrabble_words_path}\")\n",
    "\n",
    "# Load English letter frequencies\n",
    "try:\n",
    "    letter_frequencies = {}\n",
    "    with open(english_letters_path) as f:\n",
    "        for line in f:\n",
    "            letter, frequency = line.strip().split()\n",
    "            letter_frequencies[letter] = float(frequency)\n",
    "except FileNotFoundError:\n",
    "    raise FileNotFoundError(f\"Could not find english_letters.txt at {english_letters_path}\")\n",
    "    '''"
   ]
  },
  {
   "cell_type": "markdown",
   "id": "6377727a-8f0a-491e-9f1c-d9dc225edd35",
   "metadata": {},
   "source": [
    "## Unitest Module (2)\n",
    "\n",
    "Paste a copy of your test module below.\n",
    "\n",
    "NOTE: Paste as text, not as code. Use triple backticks to wrap your code blocks.\n",
    "\n",
    "- All methods have at least one test method (1).\n",
    "- Each method employs one of Unittest's Assert methods (1)."
   ]
  },
  {
   "cell_type": "code",
   "execution_count": 2,
   "id": "14b878d8-258b-4cf2-ad88-b8ee90d43977",
   "metadata": {},
   "outputs": [],
   "source": [
    "# A code block with your test code.\n",
    "'''\n",
    "# In[1]:\n",
    "\n",
    "\n",
    "\n",
    "\n",
    "\n",
    "# In[2]:\n",
    "\n",
    "\n",
    "import unittest\n",
    "import numpy as np\n",
    "import pandas as pd\n",
    "from montecarlo_simulator.montecarlo import Die, Game, Analyzer\n",
    "\n",
    "class TestDie(unittest.TestCase):\n",
    "    def setUp(self):\n",
    "        self.faces = np.array([1, 2, 3, 4, 5, 6])\n",
    "        self.die = Die(self.faces)\n",
    "\n",
    "    def test_initialization(self):\n",
    "        with self.assertRaises(TypeError):\n",
    "            Die([1, 2, 3])  # Not a NumPy array\n",
    "        with self.assertRaises(ValueError):\n",
    "            Die(np.array([1, 1, 2]))  # Non-unique faces\n",
    "\n",
    "    def test_change_weight(self):\n",
    "        self.die.change_weight(1, 3.0)\n",
    "        self.assertEqual(self.die.show().at[1, 'weight'], 3.0)\n",
    "        with self.assertRaises(IndexError):\n",
    "            self.die.change_weight(7, 2.0)  # Face does not exist\n",
    "        with self.assertRaises(TypeError):\n",
    "            self.die.change_weight(1, 'high')  # Invalid weight type\n",
    "\n",
    "    def test_roll(self):\n",
    "        outcomes = self.die.roll(10)\n",
    "        self.assertEqual(len(outcomes), 10)\n",
    "        self.assertTrue(all(face in self.faces for face in outcomes))\n",
    "\n",
    "    def test_show(self):\n",
    "        state = self.die.show()\n",
    "        self.assertEqual(state.shape, (6, 1))  # 6 faces, 1 weight column\n",
    "\n",
    "\n",
    "class TestGame(unittest.TestCase):\n",
    "    def setUp(self):\n",
    "        self.die1 = Die(np.array(['A', 'B', 'C', 'D', 'E', 'F']))\n",
    "        self.die2 = Die(np.array(['A', 'B', 'C', 'D', 'E', 'F']))\n",
    "        self.game = Game([self.die1, self.die2])\n",
    "\n",
    "    def test_initialization(self):\n",
    "        with self.assertRaises(TypeError):\n",
    "            Game(['not_a_die'])  # Invalid list of Die objects\n",
    "\n",
    "    def test_play(self):\n",
    "        self.game.play(5)\n",
    "        results = self.game.show()\n",
    "        self.assertEqual(results.shape, (5, 2))  # 5 rolls, 2 dice\n",
    "\n",
    "    def test_show(self):\n",
    "        self.game.play(5)\n",
    "        wide_results = self.game.show('wide')\n",
    "        self.assertEqual(wide_results.shape, (5, 2))\n",
    "        narrow_results = self.game.show('narrow')\n",
    "        self.assertEqual(narrow_results.shape, (10, 1))  # 5 rolls * 2 dice\n",
    "        with self.assertRaises(ValueError):\n",
    "            self.game.show('invalid')  # Invalid form argument\n",
    "\n",
    "\n",
    "class TestAnalyzer(unittest.TestCase):\n",
    "    def setUp(self):\n",
    "        die1 = Die(np.array(['A', 'B', 'C']))\n",
    "        die2 = Die(np.array(['A', 'B', 'C']))\n",
    "        self.game = Game([die1, die2])\n",
    "        self.game.play(5)\n",
    "        self.analyzer = Analyzer(self.game)\n",
    "\n",
    "    def test_initialization(self):\n",
    "        with self.assertRaises(TypeError):\n",
    "            Analyzer('not_a_game')  # Not a Game object\n",
    "\n",
    "    def test_jackpot(self):\n",
    "        jackpots = self.analyzer.jackpot()\n",
    "        self.assertTrue(isinstance(jackpots, (int, np.integer)), f\"Expected jackpots to be an int, but got {type(jackpots)}\")\n",
    "        self.assertGreaterEqual(jackpots, 0)\n",
    "\n",
    "    def test_face_counts_per_roll(self):\n",
    "        face_counts = self.analyzer.face_counts_per_roll()\n",
    "        self.assertEqual(face_counts.shape[0], 5)  # 5 rolls\n",
    "        self.assertTrue(all(col in ['A', 'B', 'C'] for col in face_counts.columns))\n",
    "\n",
    "    def test_combo_count(self):\n",
    "        combo_counts = self.analyzer.combo_count()\n",
    "        self.assertIsInstance(combo_counts, pd.DataFrame)\n",
    "\n",
    "    def test_permutation_count(self):\n",
    "        permutation_counts = self.analyzer.permutation_count()\n",
    "        self.assertIsInstance(permutation_counts, pd.DataFrame)\n",
    "\n",
    "    def test_scrabble_word_analysis(self):\n",
    "        scrabble_words = ['AA', 'BB', 'CC']\n",
    "        analysis = self.analyzer.scrabble_word_analysis(scrabble_words)\n",
    "        self.assertEqual(analysis.shape[0], 5)  # 5 rolls\n",
    "        self.assertIn('Is_Valid_Word', analysis.columns)\n",
    "\n",
    "    def test_letter_frequency_analysis(self):\n",
    "        letter_frequencies = {'A': 8, 'B': 3, 'C': 5}\n",
    "        frequency_analysis = self.analyzer.letter_frequency_analysis(letter_frequencies)\n",
    "        self.assertTrue(all(col in ['Rolled_Count', 'Expected_Frequency'] for col in frequency_analysis.columns))\n",
    "\n",
    "\n",
    "if __name__ == '__main__':\n",
    "    unittest.main(argv=['first-arg-is-ignored'], exit=False)\n",
    "\n",
    "'''"
   ]
  },
  {
   "cell_type": "markdown",
   "id": "3e058d03-29bc-408f-b36d-0605b4f4b8c0",
   "metadata": {
    "tags": []
   },
   "source": [
    "## Unittest Results (3)\n",
    "\n",
    "Put a copy of the results of running your tests from the command line here.\n",
    "\n",
    "Again, paste as text using triple backticks.\n",
    "\n",
    "- All 12 specified methods return OK (3; .25 each)."
   ]
  },
  {
   "cell_type": "raw",
   "id": "54691fd0-836c-43c7-adc9-4a09d8aa9ab2",
   "metadata": {
    "tags": []
   },
   "source": [
    "# A text block with the output of a successful test.\n",
    "\n",
    "bash-4.4$ python -m unittest discover tests\n",
    "..............\n",
    "----------------------------------------------------------------------\n",
    "Ran 14 tests in 0.030s\n",
    "\n",
    "OK\n",
    "bash-4.4$\n"
   ]
  },
  {
   "cell_type": "markdown",
   "id": "d9ffe8c5-eb2f-4ad1-af76-a46550e4c7ac",
   "metadata": {},
   "source": [
    "## Import (1)\n",
    "\n",
    "Import your module here. This import should refer to the code in your package directory.\n",
    "\n",
    "- Module successuflly imported (1)."
   ]
  },
  {
   "cell_type": "code",
   "execution_count": 6,
   "id": "a05dffb3-e6d6-4f78-9df4-5abd0cf74ca9",
   "metadata": {
    "tags": []
   },
   "outputs": [],
   "source": [
    "# e.g. import montecarlo.montecarlo \n"
   ]
  },
  {
   "cell_type": "markdown",
   "id": "f30c4842-65b1-4556-98b6-3fe1a07e1371",
   "metadata": {},
   "source": [
    "## Help Docs (4)\n",
    "\n",
    "Show your docstring documentation by applying `help()` to your imported module.\n",
    "\n",
    "- All methods have a docstring (3; .25 each).\n",
    "- All classes have a docstring (1; .33 each)."
   ]
  },
  {
   "cell_type": "code",
   "execution_count": 4,
   "id": "bf4fbf1f-9885-471c-a0a6-e9ca90e160de",
   "metadata": {
    "tags": []
   },
   "outputs": [],
   "source": [
    "# help(montecarlo)"
   ]
  },
  {
   "cell_type": "markdown",
   "id": "a9defa84-b395-4966-bd1c-5c6c2bb7ed68",
   "metadata": {},
   "source": [
    "## `README.md` File (3)\n",
    "\n",
    "Provide link to the README.md file of your project's repo.\n",
    "\n",
    "- Metadata section or info present (1).\n",
    "- Synopsis section showing how each class is called (1). (All must be included.)\n",
    "- API section listing all classes and methods (1). (All must be included.)"
   ]
  },
  {
   "cell_type": "markdown",
   "id": "ee090b33-d593-48a0-bf35-e739cea0942c",
   "metadata": {},
   "source": [
    "URL:"
   ]
  },
  {
   "cell_type": "markdown",
   "id": "108604c8-8827-42ef-ab59-6b25428fc0ca",
   "metadata": {},
   "source": [
    "## Successful installation (2)\n",
    "\n",
    "Put a screenshot or paste a copy of a terminal session where you successfully install your module with pip.\n",
    "\n",
    "If pasting text, use a preformatted text block to show the results.\n",
    "\n",
    "- Installed with `pip` (1).\n",
    "- Successfully installed message appears (1)."
   ]
  },
  {
   "cell_type": "raw",
   "id": "1278db6a-aa53-4e5c-a749-93a87ab239e0",
   "metadata": {},
   "source": [
    "# Pasted code"
   ]
  },
  {
   "cell_type": "markdown",
   "id": "7c44695d-d1b3-4edf-9f94-e64d7446f199",
   "metadata": {},
   "source": [
    "# Scenarios\n",
    "\n",
    "Use code blocks to perform the tasks for each scenario.\n",
    "\n",
    "Be sure the outputs are visible before submitting."
   ]
  },
  {
   "cell_type": "markdown",
   "id": "e2479eae-6fc9-44cd-b8d7-9b22cb501f2a",
   "metadata": {
    "jp-MarkdownHeadingCollapsed": true,
    "tags": []
   },
   "source": [
    "## Scenario 1: A 2-headed Coin (9)\n",
    "\n",
    "Task 1. Create a fair coin (with faces $H$ and $T$) and one unfair coin in which one of the faces has a weight of $5$ and the others $1$.\n",
    "\n",
    "- Fair coin created (1).\n",
    "- Unfair coin created with weight as specified (1)."
   ]
  },
  {
   "cell_type": "code",
   "execution_count": null,
   "id": "55ce498e-c75f-4425-9e3e-b635bd6cd9e1",
   "metadata": {},
   "outputs": [],
   "source": []
  },
  {
   "cell_type": "markdown",
   "id": "02b272ab-99da-4b6e-ac2a-555b73e09c07",
   "metadata": {},
   "source": [
    "Task 2. Play a game of $1000$ flips with two fair dice.\n",
    "\n",
    "- Play method called correclty and without error (1)."
   ]
  },
  {
   "cell_type": "code",
   "execution_count": null,
   "id": "65c92601-d32d-4326-b215-74953aee27f2",
   "metadata": {},
   "outputs": [],
   "source": []
  },
  {
   "cell_type": "markdown",
   "id": "7d9c3dc8-22c1-4cae-81fb-d68d774a05d1",
   "metadata": {},
   "source": [
    "Task 3. Play another game (using a new Game object) of $1000$ flips, this time using two unfair dice and one fair die. For the second unfair die, you can use the same die object twice in the list of dice you pass to the Game object.\n",
    "\n",
    "- New game object created (1).\n",
    "- Play method called correclty and without error (1)."
   ]
  },
  {
   "cell_type": "code",
   "execution_count": null,
   "id": "d4098bed-1eb2-4084-8d5e-9fda07c3be43",
   "metadata": {},
   "outputs": [],
   "source": []
  },
  {
   "cell_type": "markdown",
   "id": "f690ebfc-fe71-4eb2-976d-7ac80ca6c23f",
   "metadata": {},
   "source": [
    "Task 4. For each game, use an Analyzer object to determine the raw frequency of jackpots — i.e. getting either all $H$s or all $T$s.\n",
    "\n",
    "- Analyzer objecs instantiated for both games (1).\n",
    "- Raw frequencies reported for both (1)."
   ]
  },
  {
   "cell_type": "code",
   "execution_count": null,
   "id": "b26b8b7e-3be7-4476-a9a4-37d97536729e",
   "metadata": {},
   "outputs": [],
   "source": []
  },
  {
   "cell_type": "markdown",
   "id": "b73d233c-445e-40cd-8858-0c5e1f097105",
   "metadata": {},
   "source": [
    "Task 5. For each analyzer, compute relative frequency as the number of jackpots over the total number of rolls.\n",
    "\n",
    "- Both relative frequencies computed (1)."
   ]
  },
  {
   "cell_type": "code",
   "execution_count": null,
   "id": "9a96b31b-1b9d-496e-be3e-4bf83c45ec3a",
   "metadata": {},
   "outputs": [],
   "source": []
  },
  {
   "cell_type": "markdown",
   "id": "a6e1e734-7f5c-4721-8ba4-2f3a424cf984",
   "metadata": {},
   "source": [
    "Task 6. Show your results, comparing the two relative frequencies, in a simple bar chart.\n",
    "\n",
    "- Bar chart plotted and correct (1)."
   ]
  },
  {
   "cell_type": "code",
   "execution_count": null,
   "id": "473fa67c-aa53-4aa3-a0b7-e8772b3f6ed3",
   "metadata": {},
   "outputs": [],
   "source": []
  },
  {
   "cell_type": "markdown",
   "id": "725cfa5b-e4b7-47c9-86aa-8d9e1fe6c8c7",
   "metadata": {},
   "source": [
    "## Scenario 2: A 6-sided Die (9)\n",
    "\n",
    "Task 1. Create three dice, each with six sides having the faces 1 through 6.\n",
    "\n",
    "- Three die objects created (1)."
   ]
  },
  {
   "cell_type": "code",
   "execution_count": null,
   "id": "6a8bc611-325a-4e05-88d5-980e0a2cf7c5",
   "metadata": {},
   "outputs": [],
   "source": []
  },
  {
   "cell_type": "markdown",
   "id": "2ed3ad26-fbe9-43bd-9ad7-f683a4191d12",
   "metadata": {},
   "source": [
    "Task 2. Convert one of the dice to an unfair one by weighting the face $6$ five times more than the other weights (i.e. it has weight of 5 and the others a weight of 1 each).\n",
    "\n",
    "- Unfair die created with proper call to weight change method (1)."
   ]
  },
  {
   "cell_type": "code",
   "execution_count": null,
   "id": "e33dd18f-7f90-456d-a680-61c08a328e21",
   "metadata": {},
   "outputs": [],
   "source": []
  },
  {
   "cell_type": "markdown",
   "id": "7f6c062a-4c5b-45b9-96b8-76a0354c7e47",
   "metadata": {},
   "source": [
    "Task 3. Convert another of the dice to be unfair by weighting the face $1$ five times more than the others.\n",
    "\n",
    "- Unfair die created with proper call to weight change method (1)."
   ]
  },
  {
   "cell_type": "code",
   "execution_count": null,
   "id": "01133a4e-6b06-4246-8d90-8e6d6995be51",
   "metadata": {},
   "outputs": [],
   "source": []
  },
  {
   "cell_type": "markdown",
   "id": "f0ed31cb-0a3c-4eb2-b85e-6ed6b2eb6e58",
   "metadata": {},
   "source": [
    "Task 4. Play a game of $10000$ rolls with $5$ fair dice.\n",
    "\n",
    "- Game class properly instantiated (1). \n",
    "- Play method called properly (1)."
   ]
  },
  {
   "cell_type": "code",
   "execution_count": null,
   "id": "e92395a4-9ed8-4cb0-8c85-38768a784ffc",
   "metadata": {},
   "outputs": [],
   "source": []
  },
  {
   "cell_type": "markdown",
   "id": "7814b402-46a4-40e5-8141-20e05c3e646b",
   "metadata": {},
   "source": [
    "Task 5. Play another game of $10000$ rolls, this time with $2$ unfair dice, one as defined in steps #2 and #3 respectively, and $3$ fair dice.\n",
    "\n",
    "- Game class properly instantiated (1). \n",
    "- Play method called properly (1)."
   ]
  },
  {
   "cell_type": "code",
   "execution_count": null,
   "id": "7cd58fba-b2a5-4d5d-bc6d-2a7a68d18c4f",
   "metadata": {},
   "outputs": [],
   "source": []
  },
  {
   "cell_type": "markdown",
   "id": "7b6cd372-2bb8-4df8-ade1-8f48bc300955",
   "metadata": {},
   "source": [
    "Task 6. For each game, use an Analyzer object to determine the relative frequency of jackpots and show your results, comparing the two relative frequencies, in a simple bar chart.\n",
    "\n",
    "- Jackpot methods called (1).\n",
    "- Graph produced (1)."
   ]
  },
  {
   "cell_type": "code",
   "execution_count": null,
   "id": "bbdcf695-8937-406e-9b53-aa0b9ee3c59a",
   "metadata": {},
   "outputs": [],
   "source": []
  },
  {
   "cell_type": "markdown",
   "id": "9f04e9be-8fcf-4ea4-a391-6614608285f8",
   "metadata": {},
   "source": [
    "## Scenario 3: Letters of the Alphabet (7)\n",
    "\n",
    "Task 1. Create a \"die\" of letters from $A$ to $Z$ with weights based on their frequency of usage as found in the data file `english_letters.txt`. Use the frequencies (i.e. raw counts) as weights.\n",
    "\n",
    "- Die correctly instantiated with source file data (1).\n",
    "- Weights properly applied using weight setting method (1)."
   ]
  },
  {
   "cell_type": "code",
   "execution_count": null,
   "id": "b0ceb771-3cdf-4d8f-8c2c-020806bbb909",
   "metadata": {},
   "outputs": [],
   "source": []
  },
  {
   "cell_type": "markdown",
   "id": "88e2e14a-6223-470a-a2c8-bca1120d7a5b",
   "metadata": {},
   "source": [
    "Task 2. Play a game involving $4$ of these dice with $1000$ rolls.\n",
    "\n",
    "- Game play method properly called (1)."
   ]
  },
  {
   "cell_type": "code",
   "execution_count": null,
   "id": "2ae087cc-936d-4f1e-bddb-a7c179d139e0",
   "metadata": {},
   "outputs": [],
   "source": []
  },
  {
   "cell_type": "markdown",
   "id": "3b9ff800-bf1f-4f66-9d7f-ff57a648e9f0",
   "metadata": {},
   "source": [
    "Task 3. Determine how many permutations in your results are actual English words, based on the vocabulary found in `scrabble_words.txt`.\n",
    "\n",
    "- Use permutation method (1).\n",
    "- Get count as difference between permutations and vocabulary (1)."
   ]
  },
  {
   "cell_type": "code",
   "execution_count": null,
   "id": "ed1c7fa0-cfa3-4cf4-9fd0-9f84b86b0f64",
   "metadata": {},
   "outputs": [],
   "source": []
  },
  {
   "cell_type": "markdown",
   "id": "fcf068cf-381a-4b3e-ac3a-0510eb4dbdb0",
   "metadata": {},
   "source": [
    "Task 4. Repeat steps #2 and #3, this time with $5$ dice. How many actual words does this produce? Which produces more?\n",
    "\n",
    "- Successfully repreats steps (1).\n",
    "- Identifies parameter with most found words (1)."
   ]
  }
 ],
 "metadata": {
  "kernelspec": {
   "display_name": "Python 3 (ipykernel)",
   "language": "python",
   "name": "python3"
  },
  "language_info": {
   "codemirror_mode": {
    "name": "ipython",
    "version": 3
   },
   "file_extension": ".py",
   "mimetype": "text/x-python",
   "name": "python",
   "nbconvert_exporter": "python",
   "pygments_lexer": "ipython3",
   "version": "3.11.4"
  },
  "toc-autonumbering": true,
  "widgets": {
   "application/vnd.jupyter.widget-state+json": {
    "state": {},
    "version_major": 2,
    "version_minor": 0
   }
  }
 },
 "nbformat": 4,
 "nbformat_minor": 5
}
