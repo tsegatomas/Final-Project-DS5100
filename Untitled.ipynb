{
 "cells": [
  {
   "cell_type": "code",
   "execution_count": 2,
   "id": "96e95bee-6fe7-499c-ab50-8465971665de",
   "metadata": {
    "tags": []
   },
   "outputs": [],
   "source": [
    "from montecarlo_simulator.montecarlo import Die, Game, Analyzer\n"
   ]
  },
  {
   "cell_type": "code",
   "execution_count": null,
   "id": "33c08010-851a-4ab4-a64c-07c211e1cf74",
   "metadata": {},
   "outputs": [],
   "source": []
  }
 ],
 "metadata": {
  "kernelspec": {
   "display_name": "Python 3 (ipykernel)",
   "language": "python",
   "name": "python3"
  },
  "language_info": {
   "codemirror_mode": {
    "name": "ipython",
    "version": 3
   },
   "file_extension": ".py",
   "mimetype": "text/x-python",
   "name": "python",
   "nbconvert_exporter": "python",
   "pygments_lexer": "ipython3",
   "version": "3.11.4"
  }
 },
 "nbformat": 4,
 "nbformat_minor": 5
}
