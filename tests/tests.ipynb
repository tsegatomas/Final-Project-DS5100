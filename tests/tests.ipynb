{
 "cells": [
  {
   "cell_type": "code",
   "execution_count": 1,
   "id": "62e1ccc5-6ead-4ad6-8b8d-16ee3492db58",
   "metadata": {
    "tags": []
   },
   "outputs": [
    {
     "name": "stderr",
     "output_type": "stream",
     "text": [
      "..............\n",
      "----------------------------------------------------------------------\n",
      "Ran 14 tests in 0.031s\n",
      "\n",
      "OK\n"
     ]
    }
   ],
   "source": []
  },
  {
   "cell_type": "code",
   "execution_count": 2,
   "id": "bc989c39-eaee-404d-9149-52a1a0ed48aa",
   "metadata": {
    "tags": []
   },
   "outputs": [
    {
     "ename": "ModuleNotFoundError",
     "evalue": "No module named 'montecarlo_simulator'",
     "output_type": "error",
     "traceback": [
      "\u001b[0;31m---------------------------------------------------------------------------\u001b[0m",
      "\u001b[0;31mModuleNotFoundError\u001b[0m                       Traceback (most recent call last)",
      "Cell \u001b[0;32mIn[2], line 4\u001b[0m\n\u001b[1;32m      2\u001b[0m \u001b[38;5;28;01mimport\u001b[39;00m \u001b[38;5;21;01mnumpy\u001b[39;00m \u001b[38;5;28;01mas\u001b[39;00m \u001b[38;5;21;01mnp\u001b[39;00m\n\u001b[1;32m      3\u001b[0m \u001b[38;5;28;01mimport\u001b[39;00m \u001b[38;5;21;01mpandas\u001b[39;00m \u001b[38;5;28;01mas\u001b[39;00m \u001b[38;5;21;01mpd\u001b[39;00m\n\u001b[0;32m----> 4\u001b[0m \u001b[38;5;28;01mfrom\u001b[39;00m \u001b[38;5;21;01mmontecarlo_simulator\u001b[39;00m\u001b[38;5;21;01m.\u001b[39;00m\u001b[38;5;21;01mmontecarlo\u001b[39;00m \u001b[38;5;28;01mimport\u001b[39;00m Die, Game, Analyzer\n\u001b[1;32m      6\u001b[0m \u001b[38;5;28;01mclass\u001b[39;00m \u001b[38;5;21;01mTestDie\u001b[39;00m(unittest\u001b[38;5;241m.\u001b[39mTestCase):\n\u001b[1;32m      7\u001b[0m     \u001b[38;5;28;01mdef\u001b[39;00m \u001b[38;5;21msetUp\u001b[39m(\u001b[38;5;28mself\u001b[39m):\n",
      "\u001b[0;31mModuleNotFoundError\u001b[0m: No module named 'montecarlo_simulator'"
     ]
    }
   ],
   "source": [
    "import unittest\n",
    "import numpy as np\n",
    "import pandas as pd\n",
    "from montecarlo_simulator.montecarlo import Die, Game, Analyzer\n",
    "\n",
    "class TestDie(unittest.TestCase):\n",
    "    def setUp(self):\n",
    "        self.faces = np.array([1, 2, 3, 4, 5, 6])\n",
    "        self.die = Die(self.faces)\n",
    "\n",
    "    def test_initialization(self):\n",
    "        with self.assertRaises(TypeError):\n",
    "            Die([1, 2, 3])  # Not a NumPy array\n",
    "        with self.assertRaises(ValueError):\n",
    "            Die(np.array([1, 1, 2]))  # Non-unique faces\n",
    "\n",
    "    def test_change_weight(self):\n",
    "        self.die.change_weight(1, 3.0)\n",
    "        self.assertEqual(self.die.show().at[1, 'weight'], 3.0)\n",
    "        with self.assertRaises(IndexError):\n",
    "            self.die.change_weight(7, 2.0)  # Face does not exist\n",
    "        with self.assertRaises(TypeError):\n",
    "            self.die.change_weight(1, 'high')  # Invalid weight type\n",
    "\n",
    "    def test_roll(self):\n",
    "        outcomes = self.die.roll(10)\n",
    "        self.assertEqual(len(outcomes), 10)\n",
    "        self.assertTrue(all(face in self.faces for face in outcomes))\n",
    "\n",
    "    def test_show(self):\n",
    "        state = self.die.show()\n",
    "        self.assertEqual(state.shape, (6, 1))  # 6 faces, 1 weight column\n",
    "\n",
    "\n",
    "class TestGame(unittest.TestCase):\n",
    "    def setUp(self):\n",
    "        self.die1 = Die(np.array(['A', 'B', 'C', 'D', 'E', 'F']))\n",
    "        self.die2 = Die(np.array(['A', 'B', 'C', 'D', 'E', 'F']))\n",
    "        self.game = Game([self.die1, self.die2])\n",
    "\n",
    "    def test_initialization(self):\n",
    "        with self.assertRaises(TypeError):\n",
    "            Game(['not_a_die'])  # Invalid list of Die objects\n",
    "\n",
    "    def test_play(self):\n",
    "        self.game.play(5)\n",
    "        results = self.game.show()\n",
    "        self.assertEqual(results.shape, (5, 2))  # 5 rolls, 2 dice\n",
    "\n",
    "    def test_show(self):\n",
    "        self.game.play(5)\n",
    "        wide_results = self.game.show('wide')\n",
    "        self.assertEqual(wide_results.shape, (5, 2))\n",
    "        narrow_results = self.game.show('narrow')\n",
    "        self.assertEqual(narrow_results.shape, (10, 1))  # 5 rolls * 2 dice\n",
    "        with self.assertRaises(ValueError):\n",
    "            self.game.show('invalid')  # Invalid form argument\n",
    "\n",
    "\n",
    "class TestAnalyzer(unittest.TestCase):\n",
    "    def setUp(self):\n",
    "        die1 = Die(np.array(['A', 'B', 'C']))\n",
    "        die2 = Die(np.array(['A', 'B', 'C']))\n",
    "        self.game = Game([die1, die2])\n",
    "        self.game.play(5)\n",
    "        self.analyzer = Analyzer(self.game)\n",
    "\n",
    "    def test_initialization(self):\n",
    "        with self.assertRaises(TypeError):\n",
    "            Analyzer('not_a_game')  # Not a Game object\n",
    "\n",
    "    def test_jackpot(self):\n",
    "        jackpots = self.analyzer.jackpot()\n",
    "        self.assertTrue(isinstance(jackpots, (int, np.integer)), f\"Expected jackpots to be an int, but got {type(jackpots)}\")\n",
    "        self.assertGreaterEqual(jackpots, 0)\n",
    "\n",
    "    def test_face_counts_per_roll(self):\n",
    "        face_counts = self.analyzer.face_counts_per_roll()\n",
    "        self.assertEqual(face_counts.shape[0], 5)  # 5 rolls\n",
    "        self.assertTrue(all(col in ['A', 'B', 'C'] for col in face_counts.columns))\n",
    "\n",
    "    def test_combo_count(self):\n",
    "        combo_counts = self.analyzer.combo_count()\n",
    "        self.assertIsInstance(combo_counts, pd.DataFrame)\n",
    "\n",
    "    def test_permutation_count(self):\n",
    "        permutation_counts = self.analyzer.permutation_count()\n",
    "        self.assertIsInstance(permutation_counts, pd.DataFrame)\n",
    "\n",
    "    def test_scrabble_word_analysis(self):\n",
    "        scrabble_words = ['AA', 'BB', 'CC']\n",
    "        analysis = self.analyzer.scrabble_word_analysis(scrabble_words)\n",
    "        self.assertEqual(analysis.shape[0], 5)  # 5 rolls\n",
    "        self.assertIn('Is_Valid_Word', analysis.columns)\n",
    "\n",
    "    def test_letter_frequency_analysis(self):\n",
    "        letter_frequencies = {'A': 8, 'B': 3, 'C': 5}\n",
    "        frequency_analysis = self.analyzer.letter_frequency_analysis(letter_frequencies)\n",
    "        self.assertTrue(all(col in ['Rolled_Count', 'Expected_Frequency'] for col in frequency_analysis.columns))\n",
    "\n",
    "\n",
    "if __name__ == '__main__':\n",
    "    unittest.main(argv=['first-arg-is-ignored'], exit=False)\n"
   ]
  },
  {
   "cell_type": "code",
   "execution_count": null,
   "id": "e5dc928e-e8f1-4cdb-8595-85996e342883",
   "metadata": {},
   "outputs": [],
   "source": []
  }
 ],
 "metadata": {
  "kernelspec": {
   "display_name": "Python 3 (ipykernel)",
   "language": "python",
   "name": "python3"
  },
  "language_info": {
   "codemirror_mode": {
    "name": "ipython",
    "version": 3
   },
   "file_extension": ".py",
   "mimetype": "text/x-python",
   "name": "python",
   "nbconvert_exporter": "python",
   "pygments_lexer": "ipython3",
   "version": "3.11.4"
  }
 },
 "nbformat": 4,
 "nbformat_minor": 5
}
